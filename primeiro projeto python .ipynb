{
 "cells": [
  {
   "cell_type": "markdown",
   "id": "a2cea8f9",
   "metadata": {},
   "source": [
    "# Nosso primeiro código Python."
   ]
  },
  {
   "cell_type": "code",
   "execution_count": 1,
   "id": "484d938c",
   "metadata": {},
   "outputs": [
    {
     "name": "stdout",
     "output_type": "stream",
     "text": [
      "Orçamento gerado com sucesso!\n"
     ]
    }
   ],
   "source": [
    "print ('Orçamento gerado com sucesso!')"
   ]
  },
  {
   "cell_type": "code",
   "execution_count": 6,
   "id": "2389dff8",
   "metadata": {},
   "outputs": [
    {
     "name": "stdout",
     "output_type": "stream",
     "text": [
      "Digite a descrição do projeto: Desenvolvimento Python\n",
      "Digite a quantidade de horas estimada: 60\n",
      "Digite o valoor da hora trabalhada: 120\n",
      "Digite o prazo de entrega: 3 meses\n"
     ]
    },
    {
     "data": {
      "text/plain": [
       "'3 meses'"
      ]
     },
     "execution_count": 6,
     "metadata": {},
     "output_type": "execute_result"
    }
   ],
   "source": [
    "input('Digite a descrição do projeto: ')\n",
    "input('Digite a quantidade de horas estimada: ')\n",
    "input('Digite o valor da hora trabalhada: ')\n",
    "input('Digite o prazo de entrega: ')\n"
   ]
  },
  {
   "cell_type": "markdown",
   "id": "0dc7c94d",
   "metadata": {},
   "source": [
    " # armazenando dados no Python \n",
    " "
   ]
  },
  {
   "cell_type": "code",
   "execution_count": 49,
   "id": "7b6f1ff5",
   "metadata": {},
   "outputs": [
    {
     "name": "stdout",
     "output_type": "stream",
     "text": [
      "Digite a descrição do projeto: python\n",
      "Digite a quantidade de horas estimada: 12\n",
      "Digite o valor da hora trabalhada: 120\n",
      "Digite quanto tempo para entregar:  3 meses\n"
     ]
    }
   ],
   "source": [
    "projeto = input('Digite a descrição do projeto: ')\n",
    "horas= input('Digite a quantidade de horas estimada: ')\n",
    "valor_hora = input('Digite o valor da hora trabalhada: ')\n",
    "prazo = input ('Digite quanto tempo para entregar:  ')"
   ]
  },
  {
   "cell_type": "markdown",
   "id": "7d1ff0f2",
   "metadata": {},
   "source": [
    "# calculando   valor total do projeto\n"
   ]
  },
  {
   "cell_type": "code",
   "execution_count": 50,
   "id": "4ad7a325",
   "metadata": {},
   "outputs": [
    {
     "name": "stdout",
     "output_type": "stream",
     "text": [
      "1440\n"
     ]
    }
   ],
   "source": [
    "print (int (horas) * int (valor_hora))"
   ]
  },
  {
   "cell_type": "code",
   "execution_count": 51,
   "id": "fcdea05a",
   "metadata": {},
   "outputs": [],
   "source": [
    "valor_total =  int (horas) * int (valor_hora)"
   ]
  },
  {
   "cell_type": "code",
   "execution_count": 52,
   "id": "11c627aa",
   "metadata": {},
   "outputs": [
    {
     "name": "stdout",
     "output_type": "stream",
     "text": [
      "1440\n"
     ]
    }
   ],
   "source": [
    "print (valor_total)"
   ]
  },
  {
   "cell_type": "markdown",
   "id": "713e7661",
   "metadata": {},
   "source": [
    "# gerar pdf"
   ]
  },
  {
   "cell_type": "code",
   "execution_count": 42,
   "id": "f07c0c95",
   "metadata": {},
   "outputs": [
    {
     "name": "stdout",
     "output_type": "stream",
     "text": [
      "Collecting fpdf\n",
      "  Downloading fpdf-1.7.2.tar.gz (39 kB)\n",
      "Building wheels for collected packages: fpdf\n",
      "  Building wheel for fpdf (setup.py): started\n",
      "  Building wheel for fpdf (setup.py): finished with status 'done'\n",
      "  Created wheel for fpdf: filename=fpdf-1.7.2-py2.py3-none-any.whl size=40723 sha256=c30e1ea7760c124d2443065fa96eb29ce1974dc3e48ccf03321088b4514c78bc\n",
      "  Stored in directory: c:\\users\\giova\\appdata\\local\\pip\\cache\\wheels\\44\\35\\8b\\86ce00cec7e4d13c5f189680ae0fa82f919bedc066c2cddae9\n",
      "Successfully built fpdf\n",
      "Installing collected packages: fpdf\n",
      "Successfully installed fpdf-1.7.2\n"
     ]
    }
   ],
   "source": [
    "!pip install fpdf\n"
   ]
  },
  {
   "cell_type": "code",
   "execution_count": 43,
   "id": "de3bbfb0",
   "metadata": {},
   "outputs": [],
   "source": [
    "from fpdf import FPDF"
   ]
  },
  {
   "cell_type": "code",
   "execution_count": 54,
   "id": "ae530769",
   "metadata": {},
   "outputs": [
    {
     "name": "stdout",
     "output_type": "stream",
     "text": [
      "Orçamento gerado com sucesso!! \n"
     ]
    }
   ],
   "source": [
    "pdf = FPDF()\n",
    "\n",
    "\n",
    "pdf.add_page()\n",
    "pdf.set_font('Arial')\n",
    "\n",
    "pdf.image('template.png', x=0 ,y=0 )\n",
    "\n",
    "pdf.text(115,145, projeto)\n",
    "pdf.text(115,160, horas)\n",
    "pdf.text(115,175, valor_hora)\n",
    "pdf.text(115,190, prazo)\n",
    "pdf.text(115,205, str (valor_total))\n",
    "\n",
    "\n",
    "pdf.output('orçamento.pdf')\n",
    "\n",
    "print('Orçamento gerado com sucesso!! ')\n",
    "\n",
    "\n",
    "\n"
   ]
  },
  {
   "cell_type": "code",
   "execution_count": null,
   "id": "6efbfbb7",
   "metadata": {},
   "outputs": [],
   "source": []
  },
  {
   "cell_type": "code",
   "execution_count": null,
   "id": "671c8599",
   "metadata": {},
   "outputs": [],
   "source": []
  },
  {
   "cell_type": "code",
   "execution_count": null,
   "id": "3f70b33d",
   "metadata": {},
   "outputs": [],
   "source": []
  },
  {
   "cell_type": "code",
   "execution_count": null,
   "id": "203fe6e2",
   "metadata": {},
   "outputs": [],
   "source": []
  }
 ],
 "metadata": {
  "kernelspec": {
   "display_name": "Python 3.9.12 ('base')",
   "language": "python",
   "name": "python3"
  },
  "language_info": {
   "codemirror_mode": {
    "name": "ipython",
    "version": 3
   },
   "file_extension": ".py",
   "mimetype": "text/x-python",
   "name": "python",
   "nbconvert_exporter": "python",
   "pygments_lexer": "ipython3",
   "version": "3.9.12"
  },
  "vscode": {
   "interpreter": {
    "hash": "5179d32cf6ec497baf3f8a3ef987cc77c5d2dc691fdde20a56316522f61a7323"
   }
  }
 },
 "nbformat": 4,
 "nbformat_minor": 5
}
